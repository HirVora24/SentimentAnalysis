{
 "cells": [
  {
   "cell_type": "code",
   "execution_count": null,
   "metadata": {
    "scrolled": true
   },
   "outputs": [],
   "source": [
    "# Install Libraries\n",
    "# !pip install textblob\n",
    "# !pip install tweepy"
   ]
  },
  {
   "cell_type": "code",
   "execution_count": null,
   "metadata": {},
   "outputs": [],
   "source": [
    "# Import Libraries\n",
    "\n",
    "import sys\n",
    "import tweepy\n",
    "import pandas as pd\n",
    "import numpy as np\n",
    "import os"
   ]
  },
  {
   "cell_type": "code",
   "execution_count": null,
   "metadata": {},
   "outputs": [],
   "source": [
    "# Authentication\n",
    "consumerKey = \"n9dJxbGZjeT22ShuDnWRzagR9\"\n",
    "consumerSecret = \"kirSpqV4rM5VeYrpuMYSeWMTYISDxGsY08D3NJVbiKZtNdeyJ2\"\n",
    "accessToken = \"1527280822390345733-JKgf7HabgS79VfL0rIaBAQdvlnXEHk\"\n",
    "accessTokenSecret = \"4TIpEtHYyjoIgp6EctRS4GmQiWipPBT6eS3pVCLwgc9iG\"\n",
    "\n",
    "auth = tweepy.OAuthHandler(consumerKey, consumerSecret)\n",
    "auth.set_access_token(accessToken, accessTokenSecret)\n",
    "api = tweepy.API(auth)"
   ]
  },
  {
   "cell_type": "code",
   "execution_count": null,
   "metadata": {},
   "outputs": [],
   "source": [
    "#Sentiment Analysis\n",
    "\n",
    "# def percentage(part,whole):\n",
    "#     return 100 * float(part)/float(whole) \n",
    "\n",
    "#keyword = input(\"Please enter keyword or hashtag to search: \")\n",
    "#noOfTweet = int(input (\"Please enter how many tweets to analyze: \"))\n",
    "tweet_list = []\n",
    "tweets = tweepy.Cursor(api.search_tweets, q=\"stock\").items(1000)\n",
    "\n",
    "for tweet in tweets:\n",
    "    tweet_list.append([tweet.created_at, tweet.id, tweet.text, tweet.user.screen_name, tweet.retweet_count, tweet.favorite_count])\n",
    "   \n",
    "tweets_df1 = pd.DataFrame(tweet_list, columns=['Datetime', 'Tweet Id', 'Text', 'Username', 'Numbers of Retweet', 'Numbers of Likes'])\n",
    "\n",
    "tweets_df1.to_csv('TweetList.csv', mode='a', index=False, header=False)   \n",
    "\n"
   ]
  },
  {
   "cell_type": "code",
   "execution_count": null,
   "metadata": {},
   "outputs": [],
   "source": []
  }
 ],
 "metadata": {
  "kernelspec": {
   "display_name": "Python 3 (ipykernel)",
   "language": "python",
   "name": "python3"
  },
  "language_info": {
   "codemirror_mode": {
    "name": "ipython",
    "version": 3
   },
   "file_extension": ".py",
   "mimetype": "text/x-python",
   "name": "python",
   "nbconvert_exporter": "python",
   "pygments_lexer": "ipython3",
   "version": "3.9.12"
  }
 },
 "nbformat": 4,
 "nbformat_minor": 4
}
